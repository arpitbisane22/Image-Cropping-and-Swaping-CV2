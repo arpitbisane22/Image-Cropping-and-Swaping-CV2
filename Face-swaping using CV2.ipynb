{
 "cells": [
  {
   "cell_type": "code",
   "execution_count": 59,
   "metadata": {},
   "outputs": [],
   "source": [
    "import cv2\n",
    "model = cv2.CascadeClassifier('haarcascade_frontalface_default.xml')"
   ]
  },
  {
   "cell_type": "code",
   "execution_count": 60,
   "metadata": {},
   "outputs": [],
   "source": [
    "# Display SRK's image\n",
    "srk = cv2.imread('srk.jpg')\n",
    "cv2.imshow(\"Photo\", srk)\n",
    "cv2.waitKey()\n",
    "cv2.destroyAllWindows()"
   ]
  },
  {
   "cell_type": "code",
   "execution_count": 61,
   "metadata": {},
   "outputs": [],
   "source": [
    "# Detecting SRK's face\n",
    "faces = model.detectMultiScale(srk)\n",
    "x1 = faces[0][0]\n",
    "y1 = faces[0][1]\n",
    "x2 = x1 + faces[0][2]\n",
    "y2 = y1 + faces[0][3]\n",
    "rphoto = cv2.rectangle(srk, (x1,y1) , (x2,y2), [0,255,0], 2)\n",
    "cv2.imshow(\"image\", rphoto)\n",
    "cv2.waitKey()\n",
    "cv2.destroyAllWindows()"
   ]
  },
  {
   "cell_type": "code",
   "execution_count": 62,
   "metadata": {},
   "outputs": [],
   "source": [
    "# Display face of SRK\n",
    "face = srk[y1:y2, x1:x2]\n",
    "\n",
    "cv2.imshow(\"image\", face)\n",
    "cv2.waitKey()\n",
    "cv2.destroyAllWindows()"
   ]
  },
  {
   "cell_type": "code",
   "execution_count": null,
   "metadata": {},
   "outputs": [],
   "source": []
  },
  {
   "cell_type": "code",
   "execution_count": 63,
   "metadata": {},
   "outputs": [],
   "source": [
    "\n",
    "\n",
    "# Display Arpit's image\n",
    "arpit = cv2.imread('arpit.jpeg')\n",
    "cv2.imshow(\"Photo\", arpit)\n",
    "cv2.waitKey()\n",
    "cv2.destroyAllWindows()"
   ]
  },
  {
   "cell_type": "code",
   "execution_count": 64,
   "metadata": {},
   "outputs": [],
   "source": [
    "# Detecting Arpit's face\n",
    "faces2 = model.detectMultiScale(srk)\n",
    "a1 = faces2[0][0]\n",
    "b1 = faces2[0][1]\n",
    "a2 = a1 + faces2[0][2]\n",
    "b2 = b1 + faces2[0][3]\n",
    "aphoto = cv2.rectangle(arpit, (a1,b1) , (a2,b2), [0,255,0], 2)\n",
    "cv2.imshow(\"image\", aphoto)\n",
    "cv2.waitKey()\n",
    "cv2.destroyAllWindows()"
   ]
  },
  {
   "cell_type": "code",
   "execution_count": 65,
   "metadata": {},
   "outputs": [],
   "source": [
    "# Display face of Arpit\n",
    "face2 = arpit[b1:b2, a1:a2]\n",
    "\n",
    "cv2.imshow(\"image\", face2)\n",
    "cv2.waitKey()\n",
    "cv2.destroyAllWindows()"
   ]
  },
  {
   "cell_type": "code",
   "execution_count": null,
   "metadata": {},
   "outputs": [],
   "source": []
  },
  {
   "cell_type": "code",
   "execution_count": 66,
   "metadata": {},
   "outputs": [],
   "source": [
    "\n",
    "# Swap the face of SRK's with Arpit's\n",
    "srk = cv2.imread('srk.jpg')\n",
    "srk[b1:b2, a1:a2] = face2\n",
    "\n",
    "# Display swapped image\n",
    "cv2.imshow(\"image\", srk)\n",
    "cv2.waitKey()\n",
    "cv2.destroyAllWindows()"
   ]
  },
  {
   "cell_type": "code",
   "execution_count": 67,
   "metadata": {},
   "outputs": [],
   "source": [
    "\n",
    "arpit = cv2.imread('arpit.jpeg')\n",
    "arpit[y1:y2, x1:x2] = face\n",
    "\n",
    "# Display swapped image\n",
    "cv2.imshow(\"image\", arpit)\n",
    "cv2.waitKey()\n",
    "cv2.destroyAllWindows()"
   ]
  },
  {
   "cell_type": "code",
   "execution_count": null,
   "metadata": {},
   "outputs": [],
   "source": []
  },
  {
   "cell_type": "code",
   "execution_count": null,
   "metadata": {},
   "outputs": [],
   "source": []
  }
 ],
 "metadata": {
  "kernelspec": {
   "display_name": "Python 3",
   "language": "python",
   "name": "python3"
  },
  "language_info": {
   "codemirror_mode": {
    "name": "ipython",
    "version": 3
   },
   "file_extension": ".py",
   "mimetype": "text/x-python",
   "name": "python",
   "nbconvert_exporter": "python",
   "pygments_lexer": "ipython3",
   "version": "3.8.3"
  }
 },
 "nbformat": 4,
 "nbformat_minor": 4
}
